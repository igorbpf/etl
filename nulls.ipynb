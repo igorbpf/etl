{
 "cells": [
  {
   "cell_type": "code",
   "execution_count": 68,
   "metadata": {},
   "outputs": [],
   "source": [
    "import numpy as np\n",
    "import pandas as pd\n",
    "import impyute as imp\n",
    "from scipy.stats import skewnorm"
   ]
  },
  {
   "cell_type": "code",
   "execution_count": 141,
   "metadata": {},
   "outputs": [],
   "source": [
    "n = 5\n",
    "\n",
    "arr = np.random.uniform(high=6, size=(n, n))"
   ]
  },
  {
   "cell_type": "code",
   "execution_count": 142,
   "metadata": {},
   "outputs": [],
   "source": [
    "for _ in range(3):\n",
    "    arr[np.random.randint(n), np.random.randint(n)] = np.nan\n"
   ]
  },
  {
   "cell_type": "code",
   "execution_count": 143,
   "metadata": {},
   "outputs": [
    {
     "data": {
      "text/plain": [
       "(5, 5)"
      ]
     },
     "execution_count": 143,
     "metadata": {},
     "output_type": "execute_result"
    }
   ],
   "source": [
    "arr.shape"
   ]
  },
  {
   "cell_type": "code",
   "execution_count": 144,
   "metadata": {},
   "outputs": [],
   "source": [
    "cols = ['col1', 'col2', 'col3', 'col4', 'col5']"
   ]
  },
  {
   "cell_type": "code",
   "execution_count": 145,
   "metadata": {},
   "outputs": [],
   "source": [
    "df = pd.DataFrame(arr, columns=cols)"
   ]
  },
  {
   "cell_type": "code",
   "execution_count": 146,
   "metadata": {},
   "outputs": [
    {
     "data": {
      "text/html": [
       "<div>\n",
       "<style scoped>\n",
       "    .dataframe tbody tr th:only-of-type {\n",
       "        vertical-align: middle;\n",
       "    }\n",
       "\n",
       "    .dataframe tbody tr th {\n",
       "        vertical-align: top;\n",
       "    }\n",
       "\n",
       "    .dataframe thead th {\n",
       "        text-align: right;\n",
       "    }\n",
       "</style>\n",
       "<table border=\"1\" class=\"dataframe\">\n",
       "  <thead>\n",
       "    <tr style=\"text-align: right;\">\n",
       "      <th></th>\n",
       "      <th>col1</th>\n",
       "      <th>col2</th>\n",
       "      <th>col3</th>\n",
       "      <th>col4</th>\n",
       "      <th>col5</th>\n",
       "    </tr>\n",
       "  </thead>\n",
       "  <tbody>\n",
       "    <tr>\n",
       "      <th>0</th>\n",
       "      <td>4.403951</td>\n",
       "      <td>5.533456</td>\n",
       "      <td>1.397873</td>\n",
       "      <td>1.809761</td>\n",
       "      <td>1.574816</td>\n",
       "    </tr>\n",
       "    <tr>\n",
       "      <th>1</th>\n",
       "      <td>3.813936</td>\n",
       "      <td>3.170346</td>\n",
       "      <td>3.884659</td>\n",
       "      <td>1.992007</td>\n",
       "      <td>NaN</td>\n",
       "    </tr>\n",
       "    <tr>\n",
       "      <th>2</th>\n",
       "      <td>NaN</td>\n",
       "      <td>3.543530</td>\n",
       "      <td>5.668018</td>\n",
       "      <td>4.877539</td>\n",
       "      <td>4.799607</td>\n",
       "    </tr>\n",
       "    <tr>\n",
       "      <th>3</th>\n",
       "      <td>4.806383</td>\n",
       "      <td>NaN</td>\n",
       "      <td>2.722659</td>\n",
       "      <td>1.811484</td>\n",
       "      <td>1.547786</td>\n",
       "    </tr>\n",
       "    <tr>\n",
       "      <th>4</th>\n",
       "      <td>3.959935</td>\n",
       "      <td>4.855701</td>\n",
       "      <td>3.273549</td>\n",
       "      <td>5.075153</td>\n",
       "      <td>4.139866</td>\n",
       "    </tr>\n",
       "  </tbody>\n",
       "</table>\n",
       "</div>"
      ],
      "text/plain": [
       "       col1      col2      col3      col4      col5\n",
       "0  4.403951  5.533456  1.397873  1.809761  1.574816\n",
       "1  3.813936  3.170346  3.884659  1.992007       NaN\n",
       "2       NaN  3.543530  5.668018  4.877539  4.799607\n",
       "3  4.806383       NaN  2.722659  1.811484  1.547786\n",
       "4  3.959935  4.855701  3.273549  5.075153  4.139866"
      ]
     },
     "execution_count": 146,
     "metadata": {},
     "output_type": "execute_result"
    }
   ],
   "source": [
    "df"
   ]
  },
  {
   "cell_type": "code",
   "execution_count": 147,
   "metadata": {},
   "outputs": [
    {
     "name": "stderr",
     "output_type": "stream",
     "text": [
      "/home/igor/.local/share/virtualenvs/scripts-I1e1_A0A/lib/python3.6/site-packages/impyute/util/preprocess.py:52: FutureWarning: Method .as_matrix will be removed in a future version. Use .values instead.\n",
      "  args[0] = args[0].as_matrix()\n"
     ]
    }
   ],
   "source": [
    "df_data = imp.mice(df)"
   ]
  },
  {
   "cell_type": "code",
   "execution_count": 148,
   "metadata": {},
   "outputs": [],
   "source": [
    "df_data = pd.DataFrame(df_data.values, columns=list(df))"
   ]
  },
  {
   "cell_type": "code",
   "execution_count": 149,
   "metadata": {},
   "outputs": [
    {
     "data": {
      "text/html": [
       "<div>\n",
       "<style scoped>\n",
       "    .dataframe tbody tr th:only-of-type {\n",
       "        vertical-align: middle;\n",
       "    }\n",
       "\n",
       "    .dataframe tbody tr th {\n",
       "        vertical-align: top;\n",
       "    }\n",
       "\n",
       "    .dataframe thead th {\n",
       "        text-align: right;\n",
       "    }\n",
       "</style>\n",
       "<table border=\"1\" class=\"dataframe\">\n",
       "  <thead>\n",
       "    <tr style=\"text-align: right;\">\n",
       "      <th></th>\n",
       "      <th>col1</th>\n",
       "      <th>col2</th>\n",
       "      <th>col3</th>\n",
       "      <th>col4</th>\n",
       "      <th>col5</th>\n",
       "    </tr>\n",
       "  </thead>\n",
       "  <tbody>\n",
       "    <tr>\n",
       "      <th>0</th>\n",
       "      <td>4.403951</td>\n",
       "      <td>5.533456</td>\n",
       "      <td>1.397873</td>\n",
       "      <td>1.809761</td>\n",
       "      <td>1.574816</td>\n",
       "    </tr>\n",
       "    <tr>\n",
       "      <th>1</th>\n",
       "      <td>3.813936</td>\n",
       "      <td>3.170346</td>\n",
       "      <td>3.884659</td>\n",
       "      <td>1.992007</td>\n",
       "      <td>4.357931</td>\n",
       "    </tr>\n",
       "    <tr>\n",
       "      <th>2</th>\n",
       "      <td>4.337188</td>\n",
       "      <td>3.543530</td>\n",
       "      <td>5.668018</td>\n",
       "      <td>4.877539</td>\n",
       "      <td>4.799607</td>\n",
       "    </tr>\n",
       "    <tr>\n",
       "      <th>3</th>\n",
       "      <td>4.806383</td>\n",
       "      <td>5.077487</td>\n",
       "      <td>2.722659</td>\n",
       "      <td>1.811484</td>\n",
       "      <td>1.547786</td>\n",
       "    </tr>\n",
       "    <tr>\n",
       "      <th>4</th>\n",
       "      <td>3.959935</td>\n",
       "      <td>4.855701</td>\n",
       "      <td>3.273549</td>\n",
       "      <td>5.075153</td>\n",
       "      <td>4.139866</td>\n",
       "    </tr>\n",
       "  </tbody>\n",
       "</table>\n",
       "</div>"
      ],
      "text/plain": [
       "       col1      col2      col3      col4      col5\n",
       "0  4.403951  5.533456  1.397873  1.809761  1.574816\n",
       "1  3.813936  3.170346  3.884659  1.992007  4.357931\n",
       "2  4.337188  3.543530  5.668018  4.877539  4.799607\n",
       "3  4.806383  5.077487  2.722659  1.811484  1.547786\n",
       "4  3.959935  4.855701  3.273549  5.075153  4.139866"
      ]
     },
     "execution_count": 149,
     "metadata": {},
     "output_type": "execute_result"
    }
   ],
   "source": [
    "df_data"
   ]
  },
  {
   "cell_type": "code",
   "execution_count": 150,
   "metadata": {},
   "outputs": [],
   "source": [
    "def skewy(val, maxi, mini):\n",
    "    return (val - mini)/(maxi - mini)"
   ]
  },
  {
   "cell_type": "code",
   "execution_count": 151,
   "metadata": {},
   "outputs": [],
   "source": [
    "def geek(val, mean, std):\n",
    "    normed = (val - mean)/std\n",
    "    return skewnorm.pdf(normed, a=-5, loc=mean, scale=5 * std)"
   ]
  },
  {
   "cell_type": "code",
   "execution_count": 152,
   "metadata": {},
   "outputs": [],
   "source": [
    "def threshold(val, mean, std):\n",
    "    if val < (mean - 2 * std):\n",
    "        return mean - 2 * std\n",
    "    elif val > (mean + 2 * std):\n",
    "        return mean + 2 * std\n",
    "    else:\n",
    "        return val"
   ]
  },
  {
   "cell_type": "code",
   "execution_count": 153,
   "metadata": {},
   "outputs": [],
   "source": [
    "df_data['col1'] = df_data['col1'].apply(threshold, mean=df_data['col1'].mean(), std=df_data['col1'].std())\n",
    "df_data['col2'] = df_data['col2'].apply(threshold, mean=df_data['col2'].mean(), std=df_data['col2'].std())\n",
    "df_data['col3'] = df_data['col3'].apply(threshold, mean=df_data['col3'].mean(), std=df_data['col3'].std())\n",
    "df_data['col4'] = df_data['col4'].apply(threshold, mean=df_data['col4'].mean(), std=df_data['col4'].std())\n",
    "df_data['col5'] = df_data['col5'].apply(threshold, mean=df_data['col5'].mean(), std=df_data['col5'].std())"
   ]
  },
  {
   "cell_type": "code",
   "execution_count": 154,
   "metadata": {},
   "outputs": [],
   "source": [
    "df_data['col1'] = df_data['col1'].apply(skewy, maxi=df_data['col1'].max(), mini=df_data['col1'].min())\n",
    "df_data['col2'] = df_data['col2'].apply(skewy, maxi=df_data['col2'].max(), mini=df_data['col2'].min())\n",
    "df_data['col3'] = df_data['col3'].apply(skewy, maxi=df_data['col3'].max(), mini=df_data['col3'].min())\n",
    "df_data['col4'] = df_data['col4'].apply(skewy, maxi=df_data['col4'].max(), mini=df_data['col4'].min())\n",
    "df_data['col5'] = df_data['col5'].apply(skewy, maxi=df_data['col5'].max(), mini=df_data['col5'].min())"
   ]
  },
  {
   "cell_type": "code",
   "execution_count": 155,
   "metadata": {},
   "outputs": [
    {
     "data": {
      "text/html": [
       "<div>\n",
       "<style scoped>\n",
       "    .dataframe tbody tr th:only-of-type {\n",
       "        vertical-align: middle;\n",
       "    }\n",
       "\n",
       "    .dataframe tbody tr th {\n",
       "        vertical-align: top;\n",
       "    }\n",
       "\n",
       "    .dataframe thead th {\n",
       "        text-align: right;\n",
       "    }\n",
       "</style>\n",
       "<table border=\"1\" class=\"dataframe\">\n",
       "  <thead>\n",
       "    <tr style=\"text-align: right;\">\n",
       "      <th></th>\n",
       "      <th>col1</th>\n",
       "      <th>col2</th>\n",
       "      <th>col3</th>\n",
       "      <th>col4</th>\n",
       "      <th>col5</th>\n",
       "    </tr>\n",
       "  </thead>\n",
       "  <tbody>\n",
       "    <tr>\n",
       "      <th>0</th>\n",
       "      <td>0.594505</td>\n",
       "      <td>1.000000</td>\n",
       "      <td>0.000000</td>\n",
       "      <td>0.000000</td>\n",
       "      <td>0.008312</td>\n",
       "    </tr>\n",
       "    <tr>\n",
       "      <th>1</th>\n",
       "      <td>0.000000</td>\n",
       "      <td>0.000000</td>\n",
       "      <td>0.582366</td>\n",
       "      <td>0.055811</td>\n",
       "      <td>0.864176</td>\n",
       "    </tr>\n",
       "    <tr>\n",
       "      <th>2</th>\n",
       "      <td>0.527234</td>\n",
       "      <td>0.157921</td>\n",
       "      <td>1.000000</td>\n",
       "      <td>0.939482</td>\n",
       "      <td>1.000000</td>\n",
       "    </tr>\n",
       "    <tr>\n",
       "      <th>3</th>\n",
       "      <td>1.000000</td>\n",
       "      <td>0.807047</td>\n",
       "      <td>0.310244</td>\n",
       "      <td>0.000528</td>\n",
       "      <td>0.000000</td>\n",
       "    </tr>\n",
       "    <tr>\n",
       "      <th>4</th>\n",
       "      <td>0.147111</td>\n",
       "      <td>0.713194</td>\n",
       "      <td>0.439253</td>\n",
       "      <td>1.000000</td>\n",
       "      <td>0.797116</td>\n",
       "    </tr>\n",
       "  </tbody>\n",
       "</table>\n",
       "</div>"
      ],
      "text/plain": [
       "       col1      col2      col3      col4      col5\n",
       "0  0.594505  1.000000  0.000000  0.000000  0.008312\n",
       "1  0.000000  0.000000  0.582366  0.055811  0.864176\n",
       "2  0.527234  0.157921  1.000000  0.939482  1.000000\n",
       "3  1.000000  0.807047  0.310244  0.000528  0.000000\n",
       "4  0.147111  0.713194  0.439253  1.000000  0.797116"
      ]
     },
     "execution_count": 155,
     "metadata": {},
     "output_type": "execute_result"
    }
   ],
   "source": [
    "df_data"
   ]
  },
  {
   "cell_type": "code",
   "execution_count": 156,
   "metadata": {},
   "outputs": [
    {
     "data": {
      "text/html": [
       "<div>\n",
       "<style scoped>\n",
       "    .dataframe tbody tr th:only-of-type {\n",
       "        vertical-align: middle;\n",
       "    }\n",
       "\n",
       "    .dataframe tbody tr th {\n",
       "        vertical-align: top;\n",
       "    }\n",
       "\n",
       "    .dataframe thead th {\n",
       "        text-align: right;\n",
       "    }\n",
       "</style>\n",
       "<table border=\"1\" class=\"dataframe\">\n",
       "  <thead>\n",
       "    <tr style=\"text-align: right;\">\n",
       "      <th></th>\n",
       "      <th>col1</th>\n",
       "      <th>col2</th>\n",
       "      <th>col3</th>\n",
       "      <th>col4</th>\n",
       "      <th>col5</th>\n",
       "    </tr>\n",
       "  </thead>\n",
       "  <tbody>\n",
       "    <tr>\n",
       "      <th>0</th>\n",
       "      <td>0.594505</td>\n",
       "      <td>1.000000</td>\n",
       "      <td>0.000000</td>\n",
       "      <td>0.000000</td>\n",
       "      <td>0.008312</td>\n",
       "    </tr>\n",
       "    <tr>\n",
       "      <th>1</th>\n",
       "      <td>0.000000</td>\n",
       "      <td>0.000000</td>\n",
       "      <td>0.582366</td>\n",
       "      <td>0.055811</td>\n",
       "      <td>0.864176</td>\n",
       "    </tr>\n",
       "    <tr>\n",
       "      <th>2</th>\n",
       "      <td>0.527234</td>\n",
       "      <td>0.157921</td>\n",
       "      <td>1.000000</td>\n",
       "      <td>0.939482</td>\n",
       "      <td>1.000000</td>\n",
       "    </tr>\n",
       "    <tr>\n",
       "      <th>3</th>\n",
       "      <td>1.000000</td>\n",
       "      <td>0.807047</td>\n",
       "      <td>0.310244</td>\n",
       "      <td>0.000528</td>\n",
       "      <td>0.000000</td>\n",
       "    </tr>\n",
       "    <tr>\n",
       "      <th>4</th>\n",
       "      <td>0.147111</td>\n",
       "      <td>0.713194</td>\n",
       "      <td>0.439253</td>\n",
       "      <td>1.000000</td>\n",
       "      <td>0.797116</td>\n",
       "    </tr>\n",
       "  </tbody>\n",
       "</table>\n",
       "</div>"
      ],
      "text/plain": [
       "       col1      col2      col3      col4      col5\n",
       "0  0.594505  1.000000  0.000000  0.000000  0.008312\n",
       "1  0.000000  0.000000  0.582366  0.055811  0.864176\n",
       "2  0.527234  0.157921  1.000000  0.939482  1.000000\n",
       "3  1.000000  0.807047  0.310244  0.000528  0.000000\n",
       "4  0.147111  0.713194  0.439253  1.000000  0.797116"
      ]
     },
     "execution_count": 156,
     "metadata": {},
     "output_type": "execute_result"
    }
   ],
   "source": [
    "df_data"
   ]
  },
  {
   "cell_type": "code",
   "execution_count": 157,
   "metadata": {},
   "outputs": [],
   "source": [
    "values = [0.3, 0.2, 0.1, 0.2, 0.2]"
   ]
  },
  {
   "cell_type": "code",
   "execution_count": 158,
   "metadata": {},
   "outputs": [],
   "source": [
    "relevancia = (df_data * values).sum(axis=1).to_frame('relevancia')"
   ]
  },
  {
   "cell_type": "code",
   "execution_count": 159,
   "metadata": {},
   "outputs": [],
   "source": [
    "df_data = df_data.join(relevancia, how='left')"
   ]
  },
  {
   "cell_type": "code",
   "execution_count": 160,
   "metadata": {},
   "outputs": [
    {
     "data": {
      "text/html": [
       "<div>\n",
       "<style scoped>\n",
       "    .dataframe tbody tr th:only-of-type {\n",
       "        vertical-align: middle;\n",
       "    }\n",
       "\n",
       "    .dataframe tbody tr th {\n",
       "        vertical-align: top;\n",
       "    }\n",
       "\n",
       "    .dataframe thead th {\n",
       "        text-align: right;\n",
       "    }\n",
       "</style>\n",
       "<table border=\"1\" class=\"dataframe\">\n",
       "  <thead>\n",
       "    <tr style=\"text-align: right;\">\n",
       "      <th></th>\n",
       "      <th>col1</th>\n",
       "      <th>col2</th>\n",
       "      <th>col3</th>\n",
       "      <th>col4</th>\n",
       "      <th>col5</th>\n",
       "      <th>relevancia</th>\n",
       "    </tr>\n",
       "  </thead>\n",
       "  <tbody>\n",
       "    <tr>\n",
       "      <th>2</th>\n",
       "      <td>0.527234</td>\n",
       "      <td>0.157921</td>\n",
       "      <td>1.000000</td>\n",
       "      <td>0.939482</td>\n",
       "      <td>1.000000</td>\n",
       "      <td>0.677651</td>\n",
       "    </tr>\n",
       "    <tr>\n",
       "      <th>4</th>\n",
       "      <td>0.147111</td>\n",
       "      <td>0.713194</td>\n",
       "      <td>0.439253</td>\n",
       "      <td>1.000000</td>\n",
       "      <td>0.797116</td>\n",
       "      <td>0.590121</td>\n",
       "    </tr>\n",
       "    <tr>\n",
       "      <th>3</th>\n",
       "      <td>1.000000</td>\n",
       "      <td>0.807047</td>\n",
       "      <td>0.310244</td>\n",
       "      <td>0.000528</td>\n",
       "      <td>0.000000</td>\n",
       "      <td>0.492539</td>\n",
       "    </tr>\n",
       "    <tr>\n",
       "      <th>0</th>\n",
       "      <td>0.594505</td>\n",
       "      <td>1.000000</td>\n",
       "      <td>0.000000</td>\n",
       "      <td>0.000000</td>\n",
       "      <td>0.008312</td>\n",
       "      <td>0.380014</td>\n",
       "    </tr>\n",
       "    <tr>\n",
       "      <th>1</th>\n",
       "      <td>0.000000</td>\n",
       "      <td>0.000000</td>\n",
       "      <td>0.582366</td>\n",
       "      <td>0.055811</td>\n",
       "      <td>0.864176</td>\n",
       "      <td>0.242234</td>\n",
       "    </tr>\n",
       "  </tbody>\n",
       "</table>\n",
       "</div>"
      ],
      "text/plain": [
       "       col1      col2      col3      col4      col5  relevancia\n",
       "2  0.527234  0.157921  1.000000  0.939482  1.000000    0.677651\n",
       "4  0.147111  0.713194  0.439253  1.000000  0.797116    0.590121\n",
       "3  1.000000  0.807047  0.310244  0.000528  0.000000    0.492539\n",
       "0  0.594505  1.000000  0.000000  0.000000  0.008312    0.380014\n",
       "1  0.000000  0.000000  0.582366  0.055811  0.864176    0.242234"
      ]
     },
     "execution_count": 160,
     "metadata": {},
     "output_type": "execute_result"
    }
   ],
   "source": [
    "df_data.sort_values(by=['relevancia', 'col1'], ascending=False)"
   ]
  },
  {
   "cell_type": "code",
   "execution_count": 69,
   "metadata": {},
   "outputs": [
    {
     "data": {
      "text/plain": [
       "<bound method rv_continuous.pdf of <scipy.stats._continuous_distns.skew_norm_gen object at 0x7f43980e8da0>>"
      ]
     },
     "execution_count": 69,
     "metadata": {},
     "output_type": "execute_result"
    }
   ],
   "source": [
    "skewnorm.pdf"
   ]
  },
  {
   "cell_type": "code",
   "execution_count": null,
   "metadata": {},
   "outputs": [],
   "source": []
  }
 ],
 "metadata": {
  "kernelspec": {
   "display_name": "Python 3",
   "language": "python",
   "name": "python3"
  },
  "language_info": {
   "codemirror_mode": {
    "name": "ipython",
    "version": 3
   },
   "file_extension": ".py",
   "mimetype": "text/x-python",
   "name": "python",
   "nbconvert_exporter": "python",
   "pygments_lexer": "ipython3",
   "version": "3.6.9"
  }
 },
 "nbformat": 4,
 "nbformat_minor": 4
}
